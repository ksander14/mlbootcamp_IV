{
 "cells": [
  {
   "cell_type": "code",
   "execution_count": 1,
   "metadata": {
    "collapsed": true
   },
   "outputs": [],
   "source": [
    "import pandas as pd\n",
    "import numpy as np\n",
    "from mlxtend.feature_selection import SequentialFeatureSelector as SFS\n",
    "from sklearn.model_selection import StratifiedShuffleSplit\n",
    "from sklearn.ensemble import RandomForestClassifier\n",
    "from sklearn.model_selection import cross_val_score\n"
   ]
  },
  {
   "cell_type": "code",
   "execution_count": 13,
   "metadata": {
    "collapsed": true
   },
   "outputs": [],
   "source": [
    "X_train = pd.read_csv('x_train.csv', sep=';', header = -1) \n",
    "X_test = pd.read_csv('x_test.csv', sep=';', header = -1)\n",
    "y_train = pd.read_csv('y_train.csv', sep=';', names = ['class'])\n",
    "y_train = y_train.squeeze()"
   ]
  },
  {
   "cell_type": "code",
   "execution_count": 5,
   "metadata": {
    "collapsed": true
   },
   "outputs": [],
   "source": [
    "### берем необученную модель\n",
    "skf_cv = StratifiedShuffleSplit(n_splits=8, test_size=0.2)\n",
    "rfc = RandomForestClassifier(n_estimators=30, random_state=0)"
   ]
  },
  {
   "cell_type": "code",
   "execution_count": 6,
   "metadata": {},
   "outputs": [
    {
     "name": "stderr",
     "output_type": "stream",
     "text": [
      "\n",
      "[2017-05-20 22:42:38] Features: 1/25 -- score: 0.502328080229\n",
      "[2017-05-20 22:54:18] Features: 2/25 -- score: 0.518624641834\n",
      "[2017-05-20 23:04:52] Features: 3/25 -- score: 0.587750716332\n",
      "[2017-05-20 23:14:48] Features: 4/25 -- score: 0.599032951289\n",
      "[2017-05-20 23:24:59] Features: 5/25 -- score: 0.609061604585\n",
      "[2017-05-20 23:36:11] Features: 6/25 -- score: 0.618194842407\n",
      "[2017-05-20 23:47:10] Features: 7/25 -- score: 0.609419770774\n",
      "[2017-05-20 23:57:39] Features: 8/25 -- score: 0.610494269341\n",
      "[2017-05-21 00:08:57] Features: 9/25 -- score: 0.620881088825\n",
      "[2017-05-21 00:19:29] Features: 10/25 -- score: 0.618373925501\n",
      "[2017-05-21 00:29:59] Features: 11/25 -- score: 0.621955587393\n",
      "[2017-05-21 00:41:08] Features: 12/25 -- score: 0.620881088825\n",
      "[2017-05-21 00:52:02] Features: 13/25 -- score: 0.618373925501\n",
      "[2017-05-21 01:03:31] Features: 14/25 -- score: 0.609419770774\n",
      "[2017-05-21 01:14:03] Features: 15/25 -- score: 0.608703438395\n",
      "STOPPING EARLY DUE TO KEYBOARD INTERRUPT..."
     ]
    },
    {
     "data": {
      "text/plain": [
       "SequentialFeatureSelector(clone_estimator=True,\n",
       "             cv=StratifiedShuffleSplit(n_splits=8, random_state=None, test_size=0.2,\n",
       "            train_size=None),\n",
       "             estimator=RandomForestClassifier(bootstrap=True, class_weight=None, criterion='gini',\n",
       "            max_depth=None, max_features='auto', max_leaf_nodes=None,\n",
       "            min_impurity_split=1e-07, min_samples_leaf=1,\n",
       "            min_samples_split=2, min_weight_fraction_leaf=0.0,\n",
       "            n_estimators=30, n_jobs=1, oob_score=False, random_state=0,\n",
       "            verbose=0, warm_start=False),\n",
       "             floating=False, forward=True, k_features=25, n_jobs=-1,\n",
       "             pre_dispatch='2*n_jobs', scoring='accuracy',\n",
       "             skip_if_stuck=True, verbose=2)"
      ]
     },
     "execution_count": 6,
     "metadata": {},
     "output_type": "execute_result"
    }
   ],
   "source": [
    "### отбираем признаки\n",
    "sfs3 = SFS(rfc, \n",
    "           k_features=25, \n",
    "           forward=True,\n",
    "           floating=False, \n",
    "           verbose=2,\n",
    "           scoring='accuracy',\n",
    "           cv=skf_cv,\n",
    "          n_jobs=-1)\n",
    "\n",
    "sfs3.fit(X_train.as_matrix(), y_train.as_matrix())"
   ]
  },
  {
   "cell_type": "code",
   "execution_count": 10,
   "metadata": {
    "collapsed": true
   },
   "outputs": [],
   "source": [
    "### лучший результат с 9 признаками, оставляем их\n",
    "top_feats_1 = list(sfs3.subsets_[9]['feature_idx'])\n",
    "X_train = X_train[top_feats_1]\n",
    "X_test = X_test[top_feats_1]"
   ]
  },
  {
   "cell_type": "code",
   "execution_count": 11,
   "metadata": {},
   "outputs": [
    {
     "name": "stderr",
     "output_type": "stream",
     "text": [
      "\n",
      "[2017-05-21 01:23:20] Features: 8/6 -- score: 0.61676217765\n",
      "[2017-05-21 01:23:49] Features: 7/6 -- score: 0.611926934097\n",
      "[2017-05-21 01:24:13] Features: 6/6 -- score: 0.617657593123"
     ]
    },
    {
     "data": {
      "text/plain": [
       "SequentialFeatureSelector(clone_estimator=True,\n",
       "             cv=StratifiedShuffleSplit(n_splits=8, random_state=None, test_size=0.2,\n",
       "            train_size=None),\n",
       "             estimator=RandomForestClassifier(bootstrap=True, class_weight=None, criterion='gini',\n",
       "            max_depth=None, max_features='auto', max_leaf_nodes=None,\n",
       "            min_impurity_split=1e-07, min_samples_leaf=1,\n",
       "            min_samples_split=2, min_weight_fraction_leaf=0.0,\n",
       "            n_estimators=30, n_jobs=1, oob_score=False, random_state=0,\n",
       "            verbose=0, warm_start=False),\n",
       "             floating=False, forward=False, k_features=6, n_jobs=-1,\n",
       "             pre_dispatch='2*n_jobs', scoring='accuracy',\n",
       "             skip_if_stuck=True, verbose=2)"
      ]
     },
     "execution_count": 11,
     "metadata": {},
     "output_type": "execute_result"
    }
   ],
   "source": [
    "### попытка пойти в обратном направлении\n",
    "### отбираем признаки\n",
    "sfs4 = SFS(rfc, \n",
    "           k_features=6, \n",
    "           forward=False,\n",
    "           floating=False, \n",
    "           verbose=2,\n",
    "           scoring='accuracy',\n",
    "           cv=skf_cv,\n",
    "          n_jobs=-1)\n",
    "\n",
    "sfs4.fit(X_train.as_matrix(), y_train.as_matrix())"
   ]
  },
  {
   "cell_type": "code",
   "execution_count": 23,
   "metadata": {
    "collapsed": true
   },
   "outputs": [],
   "source": [
    "### поиск оптимальных гиперпараметров\n",
    "from hyperopt import fmin, tpe, hp, STATUS_OK, Trials\n",
    "\n",
    "def score(params):\n",
    "    print('Params: ')\n",
    "    print(params)\n",
    "    xgb_rf = RandomForestClassifier(**params)\n",
    "    skf_cv = StratifiedKFold(n_splits=5)\n",
    "    score = -cross_val_score(xgb_rf, X_cleared, y_train, scoring='accuracy', cv=skf_cv).mean()\n",
    "    print (\"\\tScore {0}\\n\\n\".format(score))\n",
    "    return {'loss': score, 'status': STATUS_OK}\n",
    "\n",
    "def optimize(trials):\n",
    "    space = {\n",
    "            'max_features' : hp.quniform('max_features',  0.02, 0.4, 0.02),\n",
    "            'min_samples_leaf' : hp.choice('min_samples_leaf', np.arange(1, 10, 1, dtype=int)),\n",
    "            'n_estimators' : hp.choice('n_estimators', np.arange(30, 251, 5, dtype=int)),\n",
    "            'random_state': 0\n",
    "    }\n",
    "    best = fmin(score, space, algo=tpe.suggest, trials=trials, max_evals=250)\n",
    "\n",
    "    print(best)"
   ]
  },
  {
   "cell_type": "code",
   "execution_count": 14,
   "metadata": {
    "collapsed": true
   },
   "outputs": [],
   "source": [
    "### получили лучшие фичи, отделили данные\n",
    "top_lst = [96, 131, 200, 138, 11, 76, 107, 79, 180, 156]\n",
    "X_cleared = X_train[top_lst]\n",
    "X_test_cleared = X_test[top_lst]"
   ]
  },
  {
   "cell_type": "code",
   "execution_count": 15,
   "metadata": {},
   "outputs": [
    {
     "ename": "NameError",
     "evalue": "name 'Trials' is not defined",
     "output_type": "error",
     "traceback": [
      "\u001b[1;31m---------------------------------------------------------------------------\u001b[0m",
      "\u001b[1;31mNameError\u001b[0m                                 Traceback (most recent call last)",
      "\u001b[1;32m<ipython-input-15-2d8f7fa23e98>\u001b[0m in \u001b[0;36m<module>\u001b[1;34m()\u001b[0m\n\u001b[0;32m      1\u001b[0m \u001b[1;31m### пробуем дотюнивать на отобранных признаках\u001b[0m\u001b[1;33m\u001b[0m\u001b[1;33m\u001b[0m\u001b[0m\n\u001b[1;32m----> 2\u001b[1;33m \u001b[0mtrials\u001b[0m \u001b[1;33m=\u001b[0m \u001b[0mTrials\u001b[0m\u001b[1;33m(\u001b[0m\u001b[1;33m)\u001b[0m\u001b[1;33m\u001b[0m\u001b[0m\n\u001b[0m\u001b[0;32m      3\u001b[0m \u001b[0moptimize\u001b[0m\u001b[1;33m(\u001b[0m\u001b[0mtrials\u001b[0m\u001b[1;33m)\u001b[0m\u001b[1;33m\u001b[0m\u001b[0m\n",
      "\u001b[1;31mNameError\u001b[0m: name 'Trials' is not defined"
     ]
    }
   ],
   "source": [
    "### пробуем дотюнивать на отобранных признаках\n",
    "trials = Trials()\n",
    "optimize(trials)"
   ]
  },
  {
   "cell_type": "code",
   "execution_count": 31,
   "metadata": {
    "collapsed": true
   },
   "outputs": [],
   "source": [
    "### выбираем лучший набор гиперпараметров\n",
    "top_params = {'max_features': 0.08, 'n_estimators': 190, 'min_samples_leaf': 1, 'random_state': 0}\n",
    "rfc = RandomForestClassifier(**top_params)"
   ]
  },
  {
   "cell_type": "code",
   "execution_count": 17,
   "metadata": {},
   "outputs": [
    {
     "name": "stdout",
     "output_type": "stream",
     "text": [
      "0     0.633990556002\n",
      "42     0.635423642445\n",
      "250     0.632846061528\n",
      "121     0.629131381197\n",
      "4     0.630850174837\n"
     ]
    }
   ],
   "source": [
    "### глянем на разброс результатов по сидам\n",
    "skf_cv = StratifiedKFold(n_splits=5)\n",
    "for rs in [0, 42, 250, 121, 4]:\n",
    "    top_params['random_state'] = rs\n",
    "    rfc = RandomForestClassifier(**top_params)\n",
    "    print(rs, '   ', cross_val_score(rfc, X_cleared, y_train, scoring='accuracy', cv=skf_cv).mean())"
   ]
  },
  {
   "cell_type": "code",
   "execution_count": 15,
   "metadata": {
    "collapsed": true
   },
   "outputs": [],
   "source": [
    "### попробуем получить предсказание\n",
    "rfc.fit(X_cleared, y_train)\n",
    "answer = rfc.predict(X_test[top_lst])"
   ]
  },
  {
   "cell_type": "code",
   "execution_count": 16,
   "metadata": {
    "collapsed": true
   },
   "outputs": [],
   "source": [
    "np.savetxt('tuned_rf_select_from_all_feat_forward.csv', answer, fmt='%i', delimiter='\\n')"
   ]
  },
  {
   "cell_type": "code",
   "execution_count": 17,
   "metadata": {
    "collapsed": true
   },
   "outputs": [],
   "source": [
    "### сгенерируем полинамиальные фичи на выбранном наборе\n",
    "from sklearn.preprocessing import PolynomialFeatures\n",
    "poly = PolynomialFeatures(2)"
   ]
  },
  {
   "cell_type": "code",
   "execution_count": 18,
   "metadata": {
    "collapsed": true
   },
   "outputs": [],
   "source": [
    "X_cleared_and_poly = poly.fit_transform(X_cleared)"
   ]
  },
  {
   "cell_type": "code",
   "execution_count": 19,
   "metadata": {
    "collapsed": true
   },
   "outputs": [],
   "source": [
    "X_cleared_test = poly.transform(X_test_cleared)"
   ]
  },
  {
   "cell_type": "code",
   "execution_count": 9,
   "metadata": {},
   "outputs": [
    {
     "name": "stderr",
     "output_type": "stream",
     "text": [
      "\n",
      "[2017-05-19 02:54:19] Features: 1/30 -- score: 0.503861871046\n",
      "[2017-05-19 03:03:04] Features: 2/30 -- score: 0.524512401392\n",
      "[2017-05-19 03:11:59] Features: 3/30 -- score: 0.583277691791\n",
      "[2017-05-19 03:20:25] Features: 4/30 -- score: 0.597312551548\n",
      "[2017-05-19 03:28:45] Features: 5/30 -- score: 0.613362153132\n",
      "[2017-05-19 03:37:00] Features: 6/30 -- score: 0.618252109643\n",
      "[2017-05-19 03:45:05] Features: 7/30 -- score: 0.624256597567\n",
      "[2017-05-19 03:52:57] Features: 8/30 -- score: 0.626556683809\n",
      "[2017-05-19 04:00:43] Features: 9/30 -- score: 0.633720874468\n",
      "[2017-05-19 04:08:19] Features: 10/30 -- score: 0.634857152875\n",
      "[2017-05-19 04:15:46] Features: 11/30 -- score: 0.634566107292\n",
      "[2017-05-19 04:23:08] Features: 12/30 -- score: 0.636300898427\n",
      "[2017-05-19 04:30:16] Features: 13/30 -- score: 0.635718811947\n",
      "[2017-05-19 04:37:17] Features: 14/30 -- score: 0.639444564845\n",
      "[2017-05-19 04:44:11] Features: 15/30 -- score: 0.638032437303\n",
      "[2017-05-19 04:50:56] Features: 16/30 -- score: 0.638600187165\n",
      "[2017-05-19 04:57:33] Features: 17/30 -- score: 0.640315280953\n",
      "[2017-05-19 05:04:02] Features: 18/30 -- score: 0.639730701998\n",
      "[2017-05-19 05:10:23] Features: 19/30 -- score: 0.640316057274\n",
      "[2017-05-19 05:16:40] Features: 20/30 -- score: 0.63887150597\n",
      "[2017-05-19 05:22:47] Features: 21/30 -- score: 0.639733573795\n",
      "[2017-05-19 05:28:45] Features: 22/30 -- score: 0.637444998304\n",
      "[2017-05-19 05:34:38] Features: 23/30 -- score: 0.637166675513\n",
      "[2017-05-19 05:40:25] Features: 24/30 -- score: 0.638309512675\n",
      "[2017-05-19 05:46:36] Features: 25/30 -- score: 0.636872749886\n",
      "[2017-05-19 05:52:38] Features: 26/30 -- score: 0.63628982588\n",
      "[2017-05-19 05:58:30] Features: 27/30 -- score: 0.636006984572\n",
      "[2017-05-19 06:04:15] Features: 28/30 -- score: 0.633712244964\n",
      "[2017-05-19 06:09:49] Features: 29/30 -- score: 0.64144333038\n",
      "[2017-05-19 06:15:15] Features: 30/30 -- score: 0.644025845634"
     ]
    },
    {
     "data": {
      "text/plain": [
       "SequentialFeatureSelector(clone_estimator=True,\n",
       "             cv=StratifiedKFold(n_splits=5, random_state=None, shuffle=False),\n",
       "             estimator=RandomForestClassifier(bootstrap=True, class_weight=None, criterion='gini',\n",
       "            max_depth=None, max_features=0.08, max_leaf_nodes=None,\n",
       "            min_impurity_split=1e-07, min_samples_leaf=1,\n",
       "            min_samples_split=2, min_weight_fraction_leaf=0.0,\n",
       "            n_estimators=190, n_jobs=1, oob_score=False, random_state=0,\n",
       "            verbose=0, warm_start=False),\n",
       "             floating=False, forward=True, k_features=30, n_jobs=-1,\n",
       "             pre_dispatch='2*n_jobs', scoring='accuracy',\n",
       "             skip_if_stuck=True, verbose=2)"
      ]
     },
     "execution_count": 9,
     "metadata": {},
     "output_type": "execute_result"
    }
   ],
   "source": [
    "### новый отбор фич\n",
    "\n",
    "### отбираем признаки\n",
    "sfs4 = SFS(rfc, \n",
    "           k_features=30, \n",
    "           forward=True,\n",
    "           floating=False, \n",
    "           verbose=2,\n",
    "           scoring='accuracy',\n",
    "           cv=skf_cv,\n",
    "          n_jobs=-1)\n",
    "\n",
    "sfs4.fit(X_cleared_and_poly, y_train.as_matrix())"
   ]
  },
  {
   "cell_type": "code",
   "execution_count": 35,
   "metadata": {
    "collapsed": true
   },
   "outputs": [],
   "source": [
    "#top_feats2 = [2, 3, 4, 5, 6, 11, 14, 20, 21, 22, 23, 25, 27, 29, 30, \n",
    "#              32, 35, 39, 40, 42, 44, 46, 47, 54, 55, 56, 59, 60, 62]\n",
    "top_feats2 = [2, 3, 4, 6, 11, 14, 20, 21, 22, \n",
    "              27, 29, 32, 39, 42, 44, 47, 56]"
   ]
  },
  {
   "cell_type": "code",
   "execution_count": 10,
   "metadata": {},
   "outputs": [
    {
     "data": {
      "text/plain": [
       "{1: {'avg_score': 0.50386187104607039,\n",
       "  'cv_scores': array([ 0.51857143,  0.50859599,  0.47994269,  0.50932568,  0.50287356]),\n",
       "  'feature_idx': (4,)},\n",
       " 2: {'avg_score': 0.52451240139154653,\n",
       "  'cv_scores': array([ 0.51571429,  0.53295129,  0.52292264,  0.52223816,  0.52873563]),\n",
       "  'feature_idx': (27, 4)},\n",
       " 3: {'avg_score': 0.5832776917910486,\n",
       "  'cv_scores': array([ 0.55857143,  0.57593123,  0.59169054,  0.6241033 ,  0.56609195]),\n",
       "  'feature_idx': (27, 4, 39)},\n",
       " 4: {'avg_score': 0.59731255154841356,\n",
       "  'cv_scores': array([ 0.58714286,  0.58739255,  0.60601719,  0.6169297 ,  0.58908046]),\n",
       "  'feature_idx': (27, 4, 20, 39)},\n",
       " 5: {'avg_score': 0.61336215313190956,\n",
       "  'cv_scores': array([ 0.60428571,  0.61318052,  0.61318052,  0.62984218,  0.60632184]),\n",
       "  'feature_idx': (42, 27, 4, 20, 39)},\n",
       " 6: {'avg_score': 0.61825210964275645,\n",
       "  'cv_scores': array([ 0.59285714,  0.61747851,  0.61891117,  0.6384505 ,  0.62356322]),\n",
       "  'feature_idx': (4, 20, 39, 42, 27, 44)},\n",
       " 7: {'avg_score': 0.62425659756746599,\n",
       "  'cv_scores': array([ 0.61285714,  0.6217765 ,  0.61747851,  0.65710187,  0.61206897]),\n",
       "  'feature_idx': (4, 20, 22, 39, 42, 27, 44)},\n",
       " 8: {'avg_score': 0.62655668380890739,\n",
       "  'cv_scores': array([ 0.61142857,  0.62893983,  0.61747851,  0.64418938,  0.63074713]),\n",
       "  'feature_idx': (4, 20, 22, 39, 42, 27, 44, 47)},\n",
       " 9: {'avg_score': 0.63372087446751857,\n",
       "  'cv_scores': array([ 0.62571429,  0.64040115,  0.60744986,  0.6527977 ,  0.64224138]),\n",
       "  'feature_idx': (3, 4, 39, 42, 44, 47, 20, 22, 27)},\n",
       " 10: {'avg_score': 0.63485715287462097,\n",
       "  'cv_scores': array([ 0.63428571,  0.63896848,  0.61318052,  0.65566714,  0.63218391]),\n",
       "  'feature_idx': (3, 4, 6, 39, 42, 44, 47, 20, 22, 27)},\n",
       " 11: {'avg_score': 0.63456610729244256,\n",
       "  'cv_scores': array([ 0.63714286,  0.63610315,  0.62464183,  0.63988522,  0.63505747]),\n",
       "  'feature_idx': (32, 3, 4, 6, 39, 42, 44, 47, 20, 22, 27)},\n",
       " 12: {'avg_score': 0.63630089842670723,\n",
       "  'cv_scores': array([ 0.62428571,  0.63323782,  0.62464183,  0.65997131,  0.63936782]),\n",
       "  'feature_idx': (32, 3, 4, 6, 39, 42, 44, 47, 20, 21, 22, 27)},\n",
       " 13: {'avg_score': 0.63571881194707391,\n",
       "  'cv_scores': array([ 0.63285714,  0.63896848,  0.62464183,  0.63988522,  0.64224138]),\n",
       "  'feature_idx': (32, 3, 4, 6, 39, 42, 11, 44, 47, 20, 21, 22, 27)},\n",
       " 14: {'avg_score': 0.6394445648454411,\n",
       "  'cv_scores': array([ 0.63428571,  0.64040115,  0.63323782,  0.64849354,  0.6408046 ]),\n",
       "  'feature_idx': (32, 2, 3, 4, 6, 39, 42, 11, 44, 47, 20, 21, 22, 27)},\n",
       " 15: {'avg_score': 0.63803243730299053,\n",
       "  'cv_scores': array([ 0.62      ,  0.64183381,  0.61747851,  0.64849354,  0.66235632]),\n",
       "  'feature_idx': (32, 2, 3, 4, 6, 39, 42, 11, 44, 47, 20, 21, 22, 56, 27)},\n",
       " 16: {'avg_score': 0.63860018716483347,\n",
       "  'cv_scores': array([ 0.63142857,  0.62893983,  0.61747851,  0.6527977 ,  0.66235632]),\n",
       "  'feature_idx': (32, 2, 3, 4, 6, 39, 42, 11, 44, 14, 47, 20, 21, 22, 56, 27)},\n",
       " 17: {'avg_score': 0.6403152809534387,\n",
       "  'cv_scores': array([ 0.63571429,  0.62320917,  0.62893983,  0.65566714,  0.65804598]),\n",
       "  'feature_idx': (2,\n",
       "   3,\n",
       "   4,\n",
       "   6,\n",
       "   11,\n",
       "   14,\n",
       "   20,\n",
       "   21,\n",
       "   22,\n",
       "   27,\n",
       "   29,\n",
       "   32,\n",
       "   39,\n",
       "   42,\n",
       "   44,\n",
       "   47,\n",
       "   56)},\n",
       " 18: {'avg_score': 0.63973070199833904,\n",
       "  'cv_scores': array([ 0.63857143,  0.64613181,  0.62320917,  0.64418938,  0.64655172]),\n",
       "  'feature_idx': (2,\n",
       "   3,\n",
       "   4,\n",
       "   6,\n",
       "   11,\n",
       "   14,\n",
       "   20,\n",
       "   21,\n",
       "   22,\n",
       "   27,\n",
       "   29,\n",
       "   32,\n",
       "   35,\n",
       "   39,\n",
       "   42,\n",
       "   44,\n",
       "   47,\n",
       "   56)},\n",
       " 19: {'avg_score': 0.64031605727424268,\n",
       "  'cv_scores': array([ 0.62142857,  0.64183381,  0.63753582,  0.65566714,  0.64511494]),\n",
       "  'feature_idx': (2,\n",
       "   3,\n",
       "   4,\n",
       "   6,\n",
       "   11,\n",
       "   14,\n",
       "   20,\n",
       "   21,\n",
       "   22,\n",
       "   27,\n",
       "   29,\n",
       "   32,\n",
       "   35,\n",
       "   39,\n",
       "   42,\n",
       "   44,\n",
       "   47,\n",
       "   56,\n",
       "   59)},\n",
       " 20: {'avg_score': 0.63887150596994779,\n",
       "  'cv_scores': array([ 0.63857143,  0.63037249,  0.62320917,  0.66571019,  0.63649425]),\n",
       "  'feature_idx': (2,\n",
       "   3,\n",
       "   4,\n",
       "   6,\n",
       "   11,\n",
       "   14,\n",
       "   20,\n",
       "   21,\n",
       "   22,\n",
       "   27,\n",
       "   29,\n",
       "   32,\n",
       "   35,\n",
       "   39,\n",
       "   42,\n",
       "   44,\n",
       "   47,\n",
       "   56,\n",
       "   59,\n",
       "   60)},\n",
       " 21: {'avg_score': 0.63973357379466056,\n",
       "  'cv_scores': array([ 0.63571429,  0.63610315,  0.63323782,  0.6456241 ,  0.64798851]),\n",
       "  'feature_idx': (2,\n",
       "   3,\n",
       "   4,\n",
       "   6,\n",
       "   11,\n",
       "   14,\n",
       "   20,\n",
       "   21,\n",
       "   22,\n",
       "   27,\n",
       "   29,\n",
       "   30,\n",
       "   32,\n",
       "   35,\n",
       "   39,\n",
       "   42,\n",
       "   44,\n",
       "   47,\n",
       "   56,\n",
       "   59,\n",
       "   60)},\n",
       " 22: {'avg_score': 0.63744499830388035,\n",
       "  'cv_scores': array([ 0.63      ,  0.62750716,  0.63753582,  0.64131994,  0.65086207]),\n",
       "  'feature_idx': (2,\n",
       "   3,\n",
       "   4,\n",
       "   6,\n",
       "   11,\n",
       "   14,\n",
       "   20,\n",
       "   21,\n",
       "   22,\n",
       "   27,\n",
       "   29,\n",
       "   30,\n",
       "   32,\n",
       "   35,\n",
       "   39,\n",
       "   42,\n",
       "   44,\n",
       "   47,\n",
       "   55,\n",
       "   56,\n",
       "   59,\n",
       "   60)},\n",
       " 23: {'avg_score': 0.63716667551296391,\n",
       "  'cv_scores': array([ 0.62428571,  0.6260745 ,  0.62893983,  0.6527977 ,  0.65373563]),\n",
       "  'feature_idx': (2,\n",
       "   3,\n",
       "   4,\n",
       "   6,\n",
       "   11,\n",
       "   14,\n",
       "   20,\n",
       "   21,\n",
       "   22,\n",
       "   27,\n",
       "   29,\n",
       "   30,\n",
       "   32,\n",
       "   35,\n",
       "   39,\n",
       "   42,\n",
       "   44,\n",
       "   47,\n",
       "   54,\n",
       "   55,\n",
       "   56,\n",
       "   59,\n",
       "   60)},\n",
       " 24: {'avg_score': 0.63830951267486735,\n",
       "  'cv_scores': array([ 0.62285714,  0.63037249,  0.64326648,  0.64418938,  0.65086207]),\n",
       "  'feature_idx': (0,\n",
       "   2,\n",
       "   3,\n",
       "   4,\n",
       "   6,\n",
       "   11,\n",
       "   14,\n",
       "   20,\n",
       "   21,\n",
       "   22,\n",
       "   27,\n",
       "   29,\n",
       "   30,\n",
       "   32,\n",
       "   35,\n",
       "   39,\n",
       "   42,\n",
       "   44,\n",
       "   47,\n",
       "   54,\n",
       "   55,\n",
       "   56,\n",
       "   59,\n",
       "   60)},\n",
       " 25: {'avg_score': 0.63687274988557019,\n",
       "  'cv_scores': array([ 0.62857143,  0.63180516,  0.63037249,  0.64418938,  0.64942529]),\n",
       "  'feature_idx': (0,\n",
       "   2,\n",
       "   3,\n",
       "   4,\n",
       "   6,\n",
       "   11,\n",
       "   14,\n",
       "   20,\n",
       "   21,\n",
       "   22,\n",
       "   23,\n",
       "   27,\n",
       "   29,\n",
       "   30,\n",
       "   32,\n",
       "   35,\n",
       "   39,\n",
       "   42,\n",
       "   44,\n",
       "   47,\n",
       "   54,\n",
       "   55,\n",
       "   56,\n",
       "   59,\n",
       "   60)},\n",
       " 26: {'avg_score': 0.63628982587996163,\n",
       "  'cv_scores': array([ 0.63571429,  0.62750716,  0.63323782,  0.64705882,  0.63793103]),\n",
       "  'feature_idx': (0,\n",
       "   2,\n",
       "   3,\n",
       "   4,\n",
       "   6,\n",
       "   11,\n",
       "   14,\n",
       "   20,\n",
       "   21,\n",
       "   22,\n",
       "   23,\n",
       "   25,\n",
       "   27,\n",
       "   29,\n",
       "   30,\n",
       "   32,\n",
       "   35,\n",
       "   39,\n",
       "   42,\n",
       "   44,\n",
       "   47,\n",
       "   54,\n",
       "   55,\n",
       "   56,\n",
       "   59,\n",
       "   60)},\n",
       " 27: {'avg_score': 0.63600698457187532,\n",
       "  'cv_scores': array([ 0.63142857,  0.63037249,  0.63180516,  0.6456241 ,  0.6408046 ]),\n",
       "  'feature_idx': (0,\n",
       "   2,\n",
       "   3,\n",
       "   4,\n",
       "   6,\n",
       "   11,\n",
       "   14,\n",
       "   20,\n",
       "   21,\n",
       "   22,\n",
       "   23,\n",
       "   25,\n",
       "   27,\n",
       "   29,\n",
       "   30,\n",
       "   32,\n",
       "   35,\n",
       "   39,\n",
       "   42,\n",
       "   44,\n",
       "   47,\n",
       "   54,\n",
       "   55,\n",
       "   56,\n",
       "   59,\n",
       "   60,\n",
       "   62)},\n",
       " 28: {'avg_score': 0.63371224496363021,\n",
       "  'cv_scores': array([ 0.63      ,  0.62464183,  0.63180516,  0.64849354,  0.63362069]),\n",
       "  'feature_idx': (0,\n",
       "   2,\n",
       "   3,\n",
       "   4,\n",
       "   5,\n",
       "   6,\n",
       "   11,\n",
       "   14,\n",
       "   20,\n",
       "   21,\n",
       "   22,\n",
       "   23,\n",
       "   25,\n",
       "   27,\n",
       "   29,\n",
       "   30,\n",
       "   32,\n",
       "   35,\n",
       "   39,\n",
       "   42,\n",
       "   44,\n",
       "   47,\n",
       "   54,\n",
       "   55,\n",
       "   56,\n",
       "   59,\n",
       "   60,\n",
       "   62)},\n",
       " 29: {'avg_score': 0.64144333038026979,\n",
       "  'cv_scores': array([ 0.64428571,  0.63037249,  0.64613181,  0.64705882,  0.63936782]),\n",
       "  'feature_idx': (0,\n",
       "   2,\n",
       "   3,\n",
       "   4,\n",
       "   5,\n",
       "   6,\n",
       "   11,\n",
       "   14,\n",
       "   20,\n",
       "   21,\n",
       "   22,\n",
       "   23,\n",
       "   25,\n",
       "   27,\n",
       "   29,\n",
       "   30,\n",
       "   32,\n",
       "   35,\n",
       "   39,\n",
       "   42,\n",
       "   44,\n",
       "   46,\n",
       "   47,\n",
       "   54,\n",
       "   55,\n",
       "   56,\n",
       "   59,\n",
       "   60,\n",
       "   62)},\n",
       " 30: {'avg_score': 0.64402584563361853,\n",
       "  'cv_scores': array([ 0.64857143,  0.6260745 ,  0.64756447,  0.64849354,  0.64942529]),\n",
       "  'feature_idx': (0,\n",
       "   2,\n",
       "   3,\n",
       "   4,\n",
       "   5,\n",
       "   6,\n",
       "   11,\n",
       "   14,\n",
       "   20,\n",
       "   21,\n",
       "   22,\n",
       "   23,\n",
       "   25,\n",
       "   27,\n",
       "   29,\n",
       "   30,\n",
       "   32,\n",
       "   35,\n",
       "   39,\n",
       "   40,\n",
       "   42,\n",
       "   44,\n",
       "   46,\n",
       "   47,\n",
       "   54,\n",
       "   55,\n",
       "   56,\n",
       "   59,\n",
       "   60,\n",
       "   62)}}"
      ]
     },
     "execution_count": 10,
     "metadata": {},
     "output_type": "execute_result"
    }
   ],
   "source": [
    "sfs4.subsets_"
   ]
  },
  {
   "cell_type": "code",
   "execution_count": 36,
   "metadata": {
    "collapsed": true
   },
   "outputs": [],
   "source": [
    "#top_feats2 = list(sfs4.subsets_[30]['feature_idx'])\n",
    "X_cleared_2 = pd.DataFrame(X_cleared_and_poly)[top_feats2]\n",
    "X_test_cleared_2 = pd.DataFrame(X_cleared_test)[top_feats2]"
   ]
  },
  {
   "cell_type": "code",
   "execution_count": 37,
   "metadata": {},
   "outputs": [
    {
     "data": {
      "text/plain": [
       "(3489, 17)"
      ]
     },
     "execution_count": 37,
     "metadata": {},
     "output_type": "execute_result"
    }
   ],
   "source": [
    "X_cleared_2.shape"
   ]
  },
  {
   "cell_type": "code",
   "execution_count": 30,
   "metadata": {
    "collapsed": true
   },
   "outputs": [],
   "source": [
    "np.savetxt('X_train_top.csv', X_cleared_2, fmt='%f', delimiter=';')\n",
    "np.savetxt('X_test_top.csv', X_test_cleared_2, fmt='%f', delimiter=';')"
   ]
  },
  {
   "cell_type": "code",
   "execution_count": 38,
   "metadata": {
    "collapsed": true
   },
   "outputs": [],
   "source": [
    "np.savetxt('X_train_top_2.csv', X_cleared_2, fmt='%f', delimiter=';')\n",
    "np.savetxt('X_test_top_2.csv', X_test_cleared_2, fmt='%f', delimiter=';')"
   ]
  },
  {
   "cell_type": "code",
   "execution_count": 32,
   "metadata": {},
   "outputs": [
    {
     "name": "stdout",
     "output_type": "stream",
     "text": [
      "0.635924068768\n",
      "0.637893982808\n",
      "0.637893982808\n",
      "0.630372492837\n",
      "0.634312320917\n",
      "0.633775071633\n",
      "0.630193409742\n",
      "0.640759312321\n"
     ]
    },
    {
     "ename": "KeyboardInterrupt",
     "evalue": "",
     "output_type": "error",
     "traceback": [
      "\u001b[1;31m---------------------------------------------------------------------------\u001b[0m",
      "\u001b[1;31mKeyboardInterrupt\u001b[0m                         Traceback (most recent call last)",
      "\u001b[1;32m<ipython-input-32-4e561c436abf>\u001b[0m in \u001b[0;36m<module>\u001b[1;34m()\u001b[0m\n\u001b[0;32m      5\u001b[0m     \u001b[0mtop_params\u001b[0m\u001b[1;33m[\u001b[0m\u001b[1;34m'random_state'\u001b[0m\u001b[1;33m]\u001b[0m \u001b[1;33m=\u001b[0m \u001b[0mseeds\u001b[0m\u001b[1;33m[\u001b[0m\u001b[0mi\u001b[0m\u001b[1;33m]\u001b[0m\u001b[1;33m\u001b[0m\u001b[0m\n\u001b[0;32m      6\u001b[0m     \u001b[0mrfc\u001b[0m \u001b[1;33m=\u001b[0m \u001b[0mRandomForestClassifier\u001b[0m\u001b[1;33m(\u001b[0m\u001b[1;33m**\u001b[0m\u001b[0mtop_params\u001b[0m\u001b[1;33m)\u001b[0m\u001b[1;33m\u001b[0m\u001b[0m\n\u001b[1;32m----> 7\u001b[1;33m     \u001b[0mprint\u001b[0m\u001b[1;33m(\u001b[0m\u001b[0mcross_val_score\u001b[0m\u001b[1;33m(\u001b[0m\u001b[0mrfc\u001b[0m\u001b[1;33m,\u001b[0m \u001b[0mX_cleared_2\u001b[0m\u001b[1;33m,\u001b[0m \u001b[0my_train\u001b[0m\u001b[1;33m,\u001b[0m \u001b[0mscoring\u001b[0m\u001b[1;33m=\u001b[0m\u001b[1;34m'accuracy'\u001b[0m\u001b[1;33m,\u001b[0m \u001b[0mcv\u001b[0m\u001b[1;33m=\u001b[0m\u001b[0mskf_cv\u001b[0m\u001b[1;33m)\u001b[0m\u001b[1;33m.\u001b[0m\u001b[0mmean\u001b[0m\u001b[1;33m(\u001b[0m\u001b[1;33m)\u001b[0m\u001b[1;33m)\u001b[0m\u001b[1;33m\u001b[0m\u001b[0m\n\u001b[0m",
      "\u001b[1;32mC:\\Users\\Lampard\\Anaconda3\\lib\\site-packages\\sklearn\\model_selection\\_validation.py\u001b[0m in \u001b[0;36mcross_val_score\u001b[1;34m(estimator, X, y, groups, scoring, cv, n_jobs, verbose, fit_params, pre_dispatch)\u001b[0m\n\u001b[0;32m    138\u001b[0m                                               \u001b[0mtrain\u001b[0m\u001b[1;33m,\u001b[0m \u001b[0mtest\u001b[0m\u001b[1;33m,\u001b[0m \u001b[0mverbose\u001b[0m\u001b[1;33m,\u001b[0m \u001b[1;32mNone\u001b[0m\u001b[1;33m,\u001b[0m\u001b[1;33m\u001b[0m\u001b[0m\n\u001b[0;32m    139\u001b[0m                                               fit_params)\n\u001b[1;32m--> 140\u001b[1;33m                       for train, test in cv_iter)\n\u001b[0m\u001b[0;32m    141\u001b[0m     \u001b[1;32mreturn\u001b[0m \u001b[0mnp\u001b[0m\u001b[1;33m.\u001b[0m\u001b[0marray\u001b[0m\u001b[1;33m(\u001b[0m\u001b[0mscores\u001b[0m\u001b[1;33m)\u001b[0m\u001b[1;33m[\u001b[0m\u001b[1;33m:\u001b[0m\u001b[1;33m,\u001b[0m \u001b[1;36m0\u001b[0m\u001b[1;33m]\u001b[0m\u001b[1;33m\u001b[0m\u001b[0m\n\u001b[0;32m    142\u001b[0m \u001b[1;33m\u001b[0m\u001b[0m\n",
      "\u001b[1;32mC:\\Users\\Lampard\\Anaconda3\\lib\\site-packages\\sklearn\\externals\\joblib\\parallel.py\u001b[0m in \u001b[0;36m__call__\u001b[1;34m(self, iterable)\u001b[0m\n\u001b[0;32m    756\u001b[0m             \u001b[1;31m# was dispatched. In particular this covers the edge\u001b[0m\u001b[1;33m\u001b[0m\u001b[1;33m\u001b[0m\u001b[0m\n\u001b[0;32m    757\u001b[0m             \u001b[1;31m# case of Parallel used with an exhausted iterator.\u001b[0m\u001b[1;33m\u001b[0m\u001b[1;33m\u001b[0m\u001b[0m\n\u001b[1;32m--> 758\u001b[1;33m             \u001b[1;32mwhile\u001b[0m \u001b[0mself\u001b[0m\u001b[1;33m.\u001b[0m\u001b[0mdispatch_one_batch\u001b[0m\u001b[1;33m(\u001b[0m\u001b[0miterator\u001b[0m\u001b[1;33m)\u001b[0m\u001b[1;33m:\u001b[0m\u001b[1;33m\u001b[0m\u001b[0m\n\u001b[0m\u001b[0;32m    759\u001b[0m                 \u001b[0mself\u001b[0m\u001b[1;33m.\u001b[0m\u001b[0m_iterating\u001b[0m \u001b[1;33m=\u001b[0m \u001b[1;32mTrue\u001b[0m\u001b[1;33m\u001b[0m\u001b[0m\n\u001b[0;32m    760\u001b[0m             \u001b[1;32melse\u001b[0m\u001b[1;33m:\u001b[0m\u001b[1;33m\u001b[0m\u001b[0m\n",
      "\u001b[1;32mC:\\Users\\Lampard\\Anaconda3\\lib\\site-packages\\sklearn\\externals\\joblib\\parallel.py\u001b[0m in \u001b[0;36mdispatch_one_batch\u001b[1;34m(self, iterator)\u001b[0m\n\u001b[0;32m    606\u001b[0m                 \u001b[1;32mreturn\u001b[0m \u001b[1;32mFalse\u001b[0m\u001b[1;33m\u001b[0m\u001b[0m\n\u001b[0;32m    607\u001b[0m             \u001b[1;32melse\u001b[0m\u001b[1;33m:\u001b[0m\u001b[1;33m\u001b[0m\u001b[0m\n\u001b[1;32m--> 608\u001b[1;33m                 \u001b[0mself\u001b[0m\u001b[1;33m.\u001b[0m\u001b[0m_dispatch\u001b[0m\u001b[1;33m(\u001b[0m\u001b[0mtasks\u001b[0m\u001b[1;33m)\u001b[0m\u001b[1;33m\u001b[0m\u001b[0m\n\u001b[0m\u001b[0;32m    609\u001b[0m                 \u001b[1;32mreturn\u001b[0m \u001b[1;32mTrue\u001b[0m\u001b[1;33m\u001b[0m\u001b[0m\n\u001b[0;32m    610\u001b[0m \u001b[1;33m\u001b[0m\u001b[0m\n",
      "\u001b[1;32mC:\\Users\\Lampard\\Anaconda3\\lib\\site-packages\\sklearn\\externals\\joblib\\parallel.py\u001b[0m in \u001b[0;36m_dispatch\u001b[1;34m(self, batch)\u001b[0m\n\u001b[0;32m    569\u001b[0m         \u001b[0mdispatch_timestamp\u001b[0m \u001b[1;33m=\u001b[0m \u001b[0mtime\u001b[0m\u001b[1;33m.\u001b[0m\u001b[0mtime\u001b[0m\u001b[1;33m(\u001b[0m\u001b[1;33m)\u001b[0m\u001b[1;33m\u001b[0m\u001b[0m\n\u001b[0;32m    570\u001b[0m         \u001b[0mcb\u001b[0m \u001b[1;33m=\u001b[0m \u001b[0mBatchCompletionCallBack\u001b[0m\u001b[1;33m(\u001b[0m\u001b[0mdispatch_timestamp\u001b[0m\u001b[1;33m,\u001b[0m \u001b[0mlen\u001b[0m\u001b[1;33m(\u001b[0m\u001b[0mbatch\u001b[0m\u001b[1;33m)\u001b[0m\u001b[1;33m,\u001b[0m \u001b[0mself\u001b[0m\u001b[1;33m)\u001b[0m\u001b[1;33m\u001b[0m\u001b[0m\n\u001b[1;32m--> 571\u001b[1;33m         \u001b[0mjob\u001b[0m \u001b[1;33m=\u001b[0m \u001b[0mself\u001b[0m\u001b[1;33m.\u001b[0m\u001b[0m_backend\u001b[0m\u001b[1;33m.\u001b[0m\u001b[0mapply_async\u001b[0m\u001b[1;33m(\u001b[0m\u001b[0mbatch\u001b[0m\u001b[1;33m,\u001b[0m \u001b[0mcallback\u001b[0m\u001b[1;33m=\u001b[0m\u001b[0mcb\u001b[0m\u001b[1;33m)\u001b[0m\u001b[1;33m\u001b[0m\u001b[0m\n\u001b[0m\u001b[0;32m    572\u001b[0m         \u001b[0mself\u001b[0m\u001b[1;33m.\u001b[0m\u001b[0m_jobs\u001b[0m\u001b[1;33m.\u001b[0m\u001b[0mappend\u001b[0m\u001b[1;33m(\u001b[0m\u001b[0mjob\u001b[0m\u001b[1;33m)\u001b[0m\u001b[1;33m\u001b[0m\u001b[0m\n\u001b[0;32m    573\u001b[0m \u001b[1;33m\u001b[0m\u001b[0m\n",
      "\u001b[1;32mC:\\Users\\Lampard\\Anaconda3\\lib\\site-packages\\sklearn\\externals\\joblib\\_parallel_backends.py\u001b[0m in \u001b[0;36mapply_async\u001b[1;34m(self, func, callback)\u001b[0m\n\u001b[0;32m    107\u001b[0m     \u001b[1;32mdef\u001b[0m \u001b[0mapply_async\u001b[0m\u001b[1;33m(\u001b[0m\u001b[0mself\u001b[0m\u001b[1;33m,\u001b[0m \u001b[0mfunc\u001b[0m\u001b[1;33m,\u001b[0m \u001b[0mcallback\u001b[0m\u001b[1;33m=\u001b[0m\u001b[1;32mNone\u001b[0m\u001b[1;33m)\u001b[0m\u001b[1;33m:\u001b[0m\u001b[1;33m\u001b[0m\u001b[0m\n\u001b[0;32m    108\u001b[0m         \u001b[1;34m\"\"\"Schedule a func to be run\"\"\"\u001b[0m\u001b[1;33m\u001b[0m\u001b[0m\n\u001b[1;32m--> 109\u001b[1;33m         \u001b[0mresult\u001b[0m \u001b[1;33m=\u001b[0m \u001b[0mImmediateResult\u001b[0m\u001b[1;33m(\u001b[0m\u001b[0mfunc\u001b[0m\u001b[1;33m)\u001b[0m\u001b[1;33m\u001b[0m\u001b[0m\n\u001b[0m\u001b[0;32m    110\u001b[0m         \u001b[1;32mif\u001b[0m \u001b[0mcallback\u001b[0m\u001b[1;33m:\u001b[0m\u001b[1;33m\u001b[0m\u001b[0m\n\u001b[0;32m    111\u001b[0m             \u001b[0mcallback\u001b[0m\u001b[1;33m(\u001b[0m\u001b[0mresult\u001b[0m\u001b[1;33m)\u001b[0m\u001b[1;33m\u001b[0m\u001b[0m\n",
      "\u001b[1;32mC:\\Users\\Lampard\\Anaconda3\\lib\\site-packages\\sklearn\\externals\\joblib\\_parallel_backends.py\u001b[0m in \u001b[0;36m__init__\u001b[1;34m(self, batch)\u001b[0m\n\u001b[0;32m    324\u001b[0m         \u001b[1;31m# Don't delay the application, to avoid keeping the input\u001b[0m\u001b[1;33m\u001b[0m\u001b[1;33m\u001b[0m\u001b[0m\n\u001b[0;32m    325\u001b[0m         \u001b[1;31m# arguments in memory\u001b[0m\u001b[1;33m\u001b[0m\u001b[1;33m\u001b[0m\u001b[0m\n\u001b[1;32m--> 326\u001b[1;33m         \u001b[0mself\u001b[0m\u001b[1;33m.\u001b[0m\u001b[0mresults\u001b[0m \u001b[1;33m=\u001b[0m \u001b[0mbatch\u001b[0m\u001b[1;33m(\u001b[0m\u001b[1;33m)\u001b[0m\u001b[1;33m\u001b[0m\u001b[0m\n\u001b[0m\u001b[0;32m    327\u001b[0m \u001b[1;33m\u001b[0m\u001b[0m\n\u001b[0;32m    328\u001b[0m     \u001b[1;32mdef\u001b[0m \u001b[0mget\u001b[0m\u001b[1;33m(\u001b[0m\u001b[0mself\u001b[0m\u001b[1;33m)\u001b[0m\u001b[1;33m:\u001b[0m\u001b[1;33m\u001b[0m\u001b[0m\n",
      "\u001b[1;32mC:\\Users\\Lampard\\Anaconda3\\lib\\site-packages\\sklearn\\externals\\joblib\\parallel.py\u001b[0m in \u001b[0;36m__call__\u001b[1;34m(self)\u001b[0m\n\u001b[0;32m    129\u001b[0m \u001b[1;33m\u001b[0m\u001b[0m\n\u001b[0;32m    130\u001b[0m     \u001b[1;32mdef\u001b[0m \u001b[0m__call__\u001b[0m\u001b[1;33m(\u001b[0m\u001b[0mself\u001b[0m\u001b[1;33m)\u001b[0m\u001b[1;33m:\u001b[0m\u001b[1;33m\u001b[0m\u001b[0m\n\u001b[1;32m--> 131\u001b[1;33m         \u001b[1;32mreturn\u001b[0m \u001b[1;33m[\u001b[0m\u001b[0mfunc\u001b[0m\u001b[1;33m(\u001b[0m\u001b[1;33m*\u001b[0m\u001b[0margs\u001b[0m\u001b[1;33m,\u001b[0m \u001b[1;33m**\u001b[0m\u001b[0mkwargs\u001b[0m\u001b[1;33m)\u001b[0m \u001b[1;32mfor\u001b[0m \u001b[0mfunc\u001b[0m\u001b[1;33m,\u001b[0m \u001b[0margs\u001b[0m\u001b[1;33m,\u001b[0m \u001b[0mkwargs\u001b[0m \u001b[1;32min\u001b[0m \u001b[0mself\u001b[0m\u001b[1;33m.\u001b[0m\u001b[0mitems\u001b[0m\u001b[1;33m]\u001b[0m\u001b[1;33m\u001b[0m\u001b[0m\n\u001b[0m\u001b[0;32m    132\u001b[0m \u001b[1;33m\u001b[0m\u001b[0m\n\u001b[0;32m    133\u001b[0m     \u001b[1;32mdef\u001b[0m \u001b[0m__len__\u001b[0m\u001b[1;33m(\u001b[0m\u001b[0mself\u001b[0m\u001b[1;33m)\u001b[0m\u001b[1;33m:\u001b[0m\u001b[1;33m\u001b[0m\u001b[0m\n",
      "\u001b[1;32mC:\\Users\\Lampard\\Anaconda3\\lib\\site-packages\\sklearn\\externals\\joblib\\parallel.py\u001b[0m in \u001b[0;36m<listcomp>\u001b[1;34m(.0)\u001b[0m\n\u001b[0;32m    129\u001b[0m \u001b[1;33m\u001b[0m\u001b[0m\n\u001b[0;32m    130\u001b[0m     \u001b[1;32mdef\u001b[0m \u001b[0m__call__\u001b[0m\u001b[1;33m(\u001b[0m\u001b[0mself\u001b[0m\u001b[1;33m)\u001b[0m\u001b[1;33m:\u001b[0m\u001b[1;33m\u001b[0m\u001b[0m\n\u001b[1;32m--> 131\u001b[1;33m         \u001b[1;32mreturn\u001b[0m \u001b[1;33m[\u001b[0m\u001b[0mfunc\u001b[0m\u001b[1;33m(\u001b[0m\u001b[1;33m*\u001b[0m\u001b[0margs\u001b[0m\u001b[1;33m,\u001b[0m \u001b[1;33m**\u001b[0m\u001b[0mkwargs\u001b[0m\u001b[1;33m)\u001b[0m \u001b[1;32mfor\u001b[0m \u001b[0mfunc\u001b[0m\u001b[1;33m,\u001b[0m \u001b[0margs\u001b[0m\u001b[1;33m,\u001b[0m \u001b[0mkwargs\u001b[0m \u001b[1;32min\u001b[0m \u001b[0mself\u001b[0m\u001b[1;33m.\u001b[0m\u001b[0mitems\u001b[0m\u001b[1;33m]\u001b[0m\u001b[1;33m\u001b[0m\u001b[0m\n\u001b[0m\u001b[0;32m    132\u001b[0m \u001b[1;33m\u001b[0m\u001b[0m\n\u001b[0;32m    133\u001b[0m     \u001b[1;32mdef\u001b[0m \u001b[0m__len__\u001b[0m\u001b[1;33m(\u001b[0m\u001b[0mself\u001b[0m\u001b[1;33m)\u001b[0m\u001b[1;33m:\u001b[0m\u001b[1;33m\u001b[0m\u001b[0m\n",
      "\u001b[1;32mC:\\Users\\Lampard\\Anaconda3\\lib\\site-packages\\sklearn\\model_selection\\_validation.py\u001b[0m in \u001b[0;36m_fit_and_score\u001b[1;34m(estimator, X, y, scorer, train, test, verbose, parameters, fit_params, return_train_score, return_parameters, return_n_test_samples, return_times, error_score)\u001b[0m\n\u001b[0;32m    236\u001b[0m             \u001b[0mestimator\u001b[0m\u001b[1;33m.\u001b[0m\u001b[0mfit\u001b[0m\u001b[1;33m(\u001b[0m\u001b[0mX_train\u001b[0m\u001b[1;33m,\u001b[0m \u001b[1;33m**\u001b[0m\u001b[0mfit_params\u001b[0m\u001b[1;33m)\u001b[0m\u001b[1;33m\u001b[0m\u001b[0m\n\u001b[0;32m    237\u001b[0m         \u001b[1;32melse\u001b[0m\u001b[1;33m:\u001b[0m\u001b[1;33m\u001b[0m\u001b[0m\n\u001b[1;32m--> 238\u001b[1;33m             \u001b[0mestimator\u001b[0m\u001b[1;33m.\u001b[0m\u001b[0mfit\u001b[0m\u001b[1;33m(\u001b[0m\u001b[0mX_train\u001b[0m\u001b[1;33m,\u001b[0m \u001b[0my_train\u001b[0m\u001b[1;33m,\u001b[0m \u001b[1;33m**\u001b[0m\u001b[0mfit_params\u001b[0m\u001b[1;33m)\u001b[0m\u001b[1;33m\u001b[0m\u001b[0m\n\u001b[0m\u001b[0;32m    239\u001b[0m \u001b[1;33m\u001b[0m\u001b[0m\n\u001b[0;32m    240\u001b[0m     \u001b[1;32mexcept\u001b[0m \u001b[0mException\u001b[0m \u001b[1;32mas\u001b[0m \u001b[0me\u001b[0m\u001b[1;33m:\u001b[0m\u001b[1;33m\u001b[0m\u001b[0m\n",
      "\u001b[1;32mC:\\Users\\Lampard\\Anaconda3\\lib\\site-packages\\sklearn\\ensemble\\forest.py\u001b[0m in \u001b[0;36mfit\u001b[1;34m(self, X, y, sample_weight)\u001b[0m\n\u001b[0;32m    312\u001b[0m             \u001b[1;32mfor\u001b[0m \u001b[0mi\u001b[0m \u001b[1;32min\u001b[0m \u001b[0mrange\u001b[0m\u001b[1;33m(\u001b[0m\u001b[0mn_more_estimators\u001b[0m\u001b[1;33m)\u001b[0m\u001b[1;33m:\u001b[0m\u001b[1;33m\u001b[0m\u001b[0m\n\u001b[0;32m    313\u001b[0m                 tree = self._make_estimator(append=False,\n\u001b[1;32m--> 314\u001b[1;33m                                             random_state=random_state)\n\u001b[0m\u001b[0;32m    315\u001b[0m                 \u001b[0mtrees\u001b[0m\u001b[1;33m.\u001b[0m\u001b[0mappend\u001b[0m\u001b[1;33m(\u001b[0m\u001b[0mtree\u001b[0m\u001b[1;33m)\u001b[0m\u001b[1;33m\u001b[0m\u001b[0m\n\u001b[0;32m    316\u001b[0m \u001b[1;33m\u001b[0m\u001b[0m\n",
      "\u001b[1;32mC:\\Users\\Lampard\\Anaconda3\\lib\\site-packages\\sklearn\\ensemble\\base.py\u001b[0m in \u001b[0;36m_make_estimator\u001b[1;34m(self, append, random_state)\u001b[0m\n\u001b[0;32m    117\u001b[0m         \u001b[0msub\u001b[0m\u001b[1;33m-\u001b[0m\u001b[0mestimators\u001b[0m\u001b[1;33m.\u001b[0m\u001b[1;33m\u001b[0m\u001b[0m\n\u001b[0;32m    118\u001b[0m         \"\"\"\n\u001b[1;32m--> 119\u001b[1;33m         \u001b[0mestimator\u001b[0m \u001b[1;33m=\u001b[0m \u001b[0mclone\u001b[0m\u001b[1;33m(\u001b[0m\u001b[0mself\u001b[0m\u001b[1;33m.\u001b[0m\u001b[0mbase_estimator_\u001b[0m\u001b[1;33m)\u001b[0m\u001b[1;33m\u001b[0m\u001b[0m\n\u001b[0m\u001b[0;32m    120\u001b[0m         estimator.set_params(**dict((p, getattr(self, p))\n\u001b[0;32m    121\u001b[0m                                     for p in self.estimator_params))\n",
      "\u001b[1;32mC:\\Users\\Lampard\\Anaconda3\\lib\\site-packages\\sklearn\\base.py\u001b[0m in \u001b[0;36mclone\u001b[1;34m(estimator, safe)\u001b[0m\n\u001b[0;32m     69\u001b[0m         \u001b[0mnew_object_params\u001b[0m\u001b[1;33m[\u001b[0m\u001b[0mname\u001b[0m\u001b[1;33m]\u001b[0m \u001b[1;33m=\u001b[0m \u001b[0mclone\u001b[0m\u001b[1;33m(\u001b[0m\u001b[0mparam\u001b[0m\u001b[1;33m,\u001b[0m \u001b[0msafe\u001b[0m\u001b[1;33m=\u001b[0m\u001b[1;32mFalse\u001b[0m\u001b[1;33m)\u001b[0m\u001b[1;33m\u001b[0m\u001b[0m\n\u001b[0;32m     70\u001b[0m     \u001b[0mnew_object\u001b[0m \u001b[1;33m=\u001b[0m \u001b[0mklass\u001b[0m\u001b[1;33m(\u001b[0m\u001b[1;33m**\u001b[0m\u001b[0mnew_object_params\u001b[0m\u001b[1;33m)\u001b[0m\u001b[1;33m\u001b[0m\u001b[0m\n\u001b[1;32m---> 71\u001b[1;33m     \u001b[0mparams_set\u001b[0m \u001b[1;33m=\u001b[0m \u001b[0mnew_object\u001b[0m\u001b[1;33m.\u001b[0m\u001b[0mget_params\u001b[0m\u001b[1;33m(\u001b[0m\u001b[0mdeep\u001b[0m\u001b[1;33m=\u001b[0m\u001b[1;32mFalse\u001b[0m\u001b[1;33m)\u001b[0m\u001b[1;33m\u001b[0m\u001b[0m\n\u001b[0m\u001b[0;32m     72\u001b[0m \u001b[1;33m\u001b[0m\u001b[0m\n\u001b[0;32m     73\u001b[0m     \u001b[1;31m# quick sanity check of the parameters of the clone\u001b[0m\u001b[1;33m\u001b[0m\u001b[1;33m\u001b[0m\u001b[0m\n",
      "\u001b[1;32mC:\\Users\\Lampard\\Anaconda3\\lib\\site-packages\\sklearn\\base.py\u001b[0m in \u001b[0;36mget_params\u001b[1;34m(self, deep)\u001b[0m\n\u001b[0;32m    238\u001b[0m             \u001b[1;31m# This is set in utils/__init__.py but it gets overwritten\u001b[0m\u001b[1;33m\u001b[0m\u001b[1;33m\u001b[0m\u001b[0m\n\u001b[0;32m    239\u001b[0m             \u001b[1;31m# when running under python3 somehow.\u001b[0m\u001b[1;33m\u001b[0m\u001b[1;33m\u001b[0m\u001b[0m\n\u001b[1;32m--> 240\u001b[1;33m             \u001b[0mwarnings\u001b[0m\u001b[1;33m.\u001b[0m\u001b[0msimplefilter\u001b[0m\u001b[1;33m(\u001b[0m\u001b[1;34m\"always\"\u001b[0m\u001b[1;33m,\u001b[0m \u001b[0mDeprecationWarning\u001b[0m\u001b[1;33m)\u001b[0m\u001b[1;33m\u001b[0m\u001b[0m\n\u001b[0m\u001b[0;32m    241\u001b[0m             \u001b[1;32mtry\u001b[0m\u001b[1;33m:\u001b[0m\u001b[1;33m\u001b[0m\u001b[0m\n\u001b[0;32m    242\u001b[0m                 \u001b[1;32mwith\u001b[0m \u001b[0mwarnings\u001b[0m\u001b[1;33m.\u001b[0m\u001b[0mcatch_warnings\u001b[0m\u001b[1;33m(\u001b[0m\u001b[0mrecord\u001b[0m\u001b[1;33m=\u001b[0m\u001b[1;32mTrue\u001b[0m\u001b[1;33m)\u001b[0m \u001b[1;32mas\u001b[0m \u001b[0mw\u001b[0m\u001b[1;33m:\u001b[0m\u001b[1;33m\u001b[0m\u001b[0m\n",
      "\u001b[1;32mC:\\Users\\Lampard\\Anaconda3\\lib\\warnings.py\u001b[0m in \u001b[0;36msimplefilter\u001b[1;34m(action, category, lineno, append)\u001b[0m\n\u001b[0;32m     74\u001b[0m     \u001b[1;32massert\u001b[0m \u001b[0misinstance\u001b[0m\u001b[1;33m(\u001b[0m\u001b[0mlineno\u001b[0m\u001b[1;33m,\u001b[0m \u001b[0mint\u001b[0m\u001b[1;33m)\u001b[0m \u001b[1;32mand\u001b[0m \u001b[0mlineno\u001b[0m \u001b[1;33m>=\u001b[0m \u001b[1;36m0\u001b[0m\u001b[1;33m,\u001b[0m\u001b[0;31m \u001b[0m\u001b[0;31m\\\u001b[0m\u001b[1;33m\u001b[0m\u001b[0m\n\u001b[0;32m     75\u001b[0m            \u001b[1;34m\"lineno must be an int >= 0\"\u001b[0m\u001b[1;33m\u001b[0m\u001b[0m\n\u001b[1;32m---> 76\u001b[1;33m     \u001b[0m_add_filter\u001b[0m\u001b[1;33m(\u001b[0m\u001b[0maction\u001b[0m\u001b[1;33m,\u001b[0m \u001b[1;32mNone\u001b[0m\u001b[1;33m,\u001b[0m \u001b[0mcategory\u001b[0m\u001b[1;33m,\u001b[0m \u001b[1;32mNone\u001b[0m\u001b[1;33m,\u001b[0m \u001b[0mlineno\u001b[0m\u001b[1;33m,\u001b[0m \u001b[0mappend\u001b[0m\u001b[1;33m=\u001b[0m\u001b[0mappend\u001b[0m\u001b[1;33m)\u001b[0m\u001b[1;33m\u001b[0m\u001b[0m\n\u001b[0m\u001b[0;32m     77\u001b[0m \u001b[1;33m\u001b[0m\u001b[0m\n\u001b[0;32m     78\u001b[0m \u001b[1;32mdef\u001b[0m \u001b[0m_add_filter\u001b[0m\u001b[1;33m(\u001b[0m\u001b[1;33m*\u001b[0m\u001b[0mitem\u001b[0m\u001b[1;33m,\u001b[0m \u001b[0mappend\u001b[0m\u001b[1;33m)\u001b[0m\u001b[1;33m:\u001b[0m\u001b[1;33m\u001b[0m\u001b[0m\n",
      "\u001b[1;32mC:\\Users\\Lampard\\Anaconda3\\lib\\warnings.py\u001b[0m in \u001b[0;36m_add_filter\u001b[1;34m(append, *item)\u001b[0m\n\u001b[0;32m     88\u001b[0m         \u001b[1;32mif\u001b[0m \u001b[0mitem\u001b[0m \u001b[1;32mnot\u001b[0m \u001b[1;32min\u001b[0m \u001b[0mfilters\u001b[0m\u001b[1;33m:\u001b[0m\u001b[1;33m\u001b[0m\u001b[0m\n\u001b[0;32m     89\u001b[0m             \u001b[0mfilters\u001b[0m\u001b[1;33m.\u001b[0m\u001b[0mappend\u001b[0m\u001b[1;33m(\u001b[0m\u001b[0mitem\u001b[0m\u001b[1;33m)\u001b[0m\u001b[1;33m\u001b[0m\u001b[0m\n\u001b[1;32m---> 90\u001b[1;33m     \u001b[0m_filters_mutated\u001b[0m\u001b[1;33m(\u001b[0m\u001b[1;33m)\u001b[0m\u001b[1;33m\u001b[0m\u001b[0m\n\u001b[0m\u001b[0;32m     91\u001b[0m \u001b[1;33m\u001b[0m\u001b[0m\n\u001b[0;32m     92\u001b[0m \u001b[1;32mdef\u001b[0m \u001b[0mresetwarnings\u001b[0m\u001b[1;33m(\u001b[0m\u001b[1;33m)\u001b[0m\u001b[1;33m:\u001b[0m\u001b[1;33m\u001b[0m\u001b[0m\n",
      "\u001b[1;31mKeyboardInterrupt\u001b[0m: "
     ]
    }
   ],
   "source": [
    "### проверка разброса по сидам\n",
    "top_params['n_estimators'] = 300\n",
    "seeds = [0, 42, 250, 121, 4, 78, 145, 38, 201, 17]\n",
    "for i in range(10):\n",
    "    top_params['random_state'] = seeds[i]\n",
    "    rfc = RandomForestClassifier(**top_params)\n",
    "    print(cross_val_score(rfc, X_cleared_2, y_train, scoring='accuracy', cv=skf_cv).mean())\n"
   ]
  },
  {
   "cell_type": "code",
   "execution_count": 13,
   "metadata": {
    "collapsed": true
   },
   "outputs": [],
   "source": [
    "### пробуем сделать предсказание\n",
    "rfc.fit(X_cleared_2, y_train)\n",
    "ans = rfc.predict(X_test_cleared_2)"
   ]
  },
  {
   "cell_type": "code",
   "execution_count": 14,
   "metadata": {
    "collapsed": true
   },
   "outputs": [],
   "source": [
    "np.savetxt('tuned_rf_double_select_forward_30feats.csv', ans, fmt='%i', delimiter='\\n')"
   ]
  },
  {
   "cell_type": "code",
   "execution_count": 15,
   "metadata": {
    "collapsed": true
   },
   "outputs": [],
   "source": [
    "import stacking"
   ]
  },
  {
   "cell_type": "markdown",
   "metadata": {},
   "source": [
    "##### Создаем файлы разных типов для последующего стэкинга/голосования"
   ]
  },
  {
   "cell_type": "code",
   "execution_count": 16,
   "metadata": {
    "collapsed": true
   },
   "outputs": [],
   "source": [
    "### классификация с усреднением\n",
    "X_train_new, X_test_new, cval_sc = stacking.one_classifier_voting_stacking(X_cleared_2, y_train, X_test_cleared_2, rfc)\n",
    "np.savetxt('rf_30feats_stacking_class_mean_train.csv', X_train_new, fmt='%i', delimiter='\\n')\n",
    "np.savetxt('rf_30feats_stacking_class_mean_test.csv', X_test_new, fmt='%i', delimiter='\\n')"
   ]
  },
  {
   "cell_type": "code",
   "execution_count": 17,
   "metadata": {
    "collapsed": true
   },
   "outputs": [],
   "source": [
    "### если не усреднять ответы для теста\n",
    "X_train_new_2, X_test_new_2, cval_sc_2 = stacking.one_classifier_voting_stacking(X_cleared_2, y_train, X_test_cleared_2, rfc, test_mean=False)\n",
    "np.savetxt('rf_30feats_stacking_class_not_mean_train.csv', X_train_new_2, fmt='%i', delimiter='\\n')\n",
    "np.savetxt('rf_30feats_stacking_class_not_mean_test.csv', X_test_new_2, fmt='%i', delimiter='\\n')"
   ]
  },
  {
   "cell_type": "code",
   "execution_count": 18,
   "metadata": {
    "collapsed": true
   },
   "outputs": [],
   "source": [
    "### вероятностые результаты\n",
    "X_train_new_3, X_test_new_3, cval_sc_3 = stacking.one_classifier_proba_stacking(X_cleared_2, y_train, X_test_cleared_2, rfc, 5)\n",
    "np.savetxt('rf_30feats_stacking_proba_mean_train.csv', X_train_new_3, fmt='%f')\n",
    "np.savetxt('rf_30feats_stacking_proba_mean_test.csv', X_test_new_3, fmt='%f')"
   ]
  },
  {
   "cell_type": "code",
   "execution_count": 19,
   "metadata": {
    "collapsed": true
   },
   "outputs": [],
   "source": [
    "### неусредненные вероятностые результаты\n",
    "X_train_new_4, X_test_new_4, cval_sc_4 = stacking.one_classifier_proba_stacking(X_cleared_2, y_train, X_test_cleared_2, rfc, 5, test_mean=False)\n",
    "np.savetxt('rf_30feats_stacking_proba_not_mean_train.csv', X_train_new_4, fmt='%f')\n",
    "np.savetxt('rf_30feats_stacking_proba_not_mean_test.csv', X_test_new_4, fmt='%f')"
   ]
  },
  {
   "cell_type": "code",
   "execution_count": null,
   "metadata": {
    "collapsed": true
   },
   "outputs": [],
   "source": []
  }
 ],
 "metadata": {
  "anaconda-cloud": {},
  "kernelspec": {
   "display_name": "Python [Root]",
   "language": "python",
   "name": "Python [Root]"
  },
  "language_info": {
   "codemirror_mode": {
    "name": "ipython",
    "version": 3
   },
   "file_extension": ".py",
   "mimetype": "text/x-python",
   "name": "python",
   "nbconvert_exporter": "python",
   "pygments_lexer": "ipython3",
   "version": "3.5.2"
  }
 },
 "nbformat": 4,
 "nbformat_minor": 1
}
