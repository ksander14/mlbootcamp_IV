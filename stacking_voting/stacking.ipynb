{
 "cells": [
  {
   "cell_type": "code",
   "execution_count": 1,
   "metadata": {
    "collapsed": true
   },
   "outputs": [],
   "source": [
    "import numpy as np\n",
    "import pandas as pd\n",
    "from sklearn.model_selection import StratifiedKFold\n",
    "from sklearn.ensemble import RandomForestClassifier\n",
    "from sklearn.metrics import accuracy_score\n",
    "\n",
    "def one_classifier_voting_stacking(X_train, y_train, X_test, classifier, n_folds=5, test_mean=True):\n",
    "    skf_cv = StratifiedKFold(n_splits=n_folds, random_state=0)\n",
    "    new_x_train = np.array([0 for i in range(len(X_train))])\n",
    "    new_x_test = np.array([[0 for i in range(len(X_test))] for i in range(n_folds)])\n",
    "    i = 0\n",
    "    mean_accur = 0\n",
    "    for train_index, test_index in skf_cv.split(X_train, y_train):\n",
    "        X_train_cur, X_test_cur = X_train.as_matrix()[train_index], X_train.as_matrix()[test_index]\n",
    "        y_train_cur, y_test_cur = y_train.as_matrix()[train_index], y_train.as_matrix()[test_index]\n",
    "        classifier.fit(X_train_cur, y_train_cur)\n",
    "        new_x_train[test_index] = classifier.predict(X_test_cur)\n",
    "        new_x_test[i] = classifier.predict(X_test.as_matrix())\n",
    "        i += 1\n",
    "        mean_accur += accuracy_score(new_x_train[test_index], y_test_cur)\n",
    "    mean_accur /= n_folds\n",
    "    new_x_test_final = np.array([0 for i in range(len(X_test))])\n",
    "    if test_mean:\n",
    "        for i in range(len(new_x_test[0])):\n",
    "            new_x_test_final[i] = np.bincount(new_x_test[:, i]).argmax()\n",
    "    else:\n",
    "        classifier.fit(X_train, y_train)\n",
    "        new_x_test_final = classifier.predict(X_test)\n",
    "    return new_x_train, new_x_test_final, mean_accur"
   ]
  },
  {
   "cell_type": "code",
   "execution_count": 39,
   "metadata": {},
   "outputs": [],
   "source": [
    "def one_classifier_proba_stacking(X_train, y_train, X_test, classifier, num_classes, n_folds=5, test_mean=True):\n",
    "    skf_cv = StratifiedKFold(n_splits=n_folds, random_state=42)    \n",
    "    X_train_new = np.array([[0.0 for i in range(num_classes)] for i in range(len(X_train))])\n",
    "    X_test_new = np.array([[[0.0 for i in range(num_classes)] for i in range(len(X_test))] for i in range(n_folds)])\n",
    "    i = 0\n",
    "    mean_accur = 0\n",
    "    for train_index, test_index in skf_cv.split(X_train, y_train):\n",
    "        X_train_cur, X_test_cur = X_train.as_matrix()[train_index], X_train.as_matrix()[test_index]\n",
    "        y_train_cur, y_test_cur = y_train.as_matrix()[train_index], y_train.as_matrix()[test_index]\n",
    "        classifier.fit(X_train_cur, y_train_cur)\n",
    "        X_train_new[test_index] = classifier.predict_proba(X_test_cur)\n",
    "        X_test_new[i] = classifier.predict_proba(X_test.as_matrix())\n",
    "        i += 1\n",
    "        mean_accur += accuracy_score(classifier.predict(X_test_cur), y_test_cur)\n",
    "    mean_accur /= n_folds\n",
    "    X_test_new_final = X_test_new.mean(axis=0)\n",
    "    if test_mean == False:\n",
    "        classifier.fit(X_train, y_train)\n",
    "        new_x_test_final = classifier.predict_proba(X_test)\n",
    "    return X_train_new, X_test_new_final, mean_accur"
   ]
  }
 ],
 "metadata": {
  "anaconda-cloud": {},
  "kernelspec": {
   "display_name": "Python [Root]",
   "language": "python",
   "name": "Python [Root]"
  },
  "language_info": {
   "codemirror_mode": {
    "name": "ipython",
    "version": 3
   },
   "file_extension": ".py",
   "mimetype": "text/x-python",
   "name": "python",
   "nbconvert_exporter": "python",
   "pygments_lexer": "ipython3",
   "version": "3.5.2"
  }
 },
 "nbformat": 4,
 "nbformat_minor": 2
}
