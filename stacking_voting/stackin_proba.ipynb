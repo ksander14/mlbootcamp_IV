{
 "cells": [
  {
   "cell_type": "code",
   "execution_count": 6,
   "metadata": {
    "collapsed": true
   },
   "outputs": [],
   "source": [
    "import numpy as np\n",
    "import pandas as pd\n",
    "from sklearn.linear_model import LogisticRegression\n",
    "from sklearn.svm import SVC\n",
    "from sklearn.model_selection import StratifiedKFold\n",
    "from sklearn.model_selection import cross_val_score"
   ]
  },
  {
   "cell_type": "code",
   "execution_count": 107,
   "metadata": {
    "collapsed": true
   },
   "outputs": [],
   "source": [
    "### считываем результаты наших классификаторов, соединяем в один датафрэйм\n",
    "train_files_list = ['rf_13_subset_stacking_proba_mean_train.csv',\n",
    "                   'rf_21_subset_stacking_proba_mean_train.csv',\n",
    "                   'rf_19allfeats_stacking_proba_mean_train.csv',\n",
    "                   'rf_float_stacking_proba_mean_train.csv',\n",
    "                   'gbclf_30feats_stacking_proba_mean_train.csv',\n",
    "                   'xgbclf_30feats_stacking_proba_mean_train.csv',\n",
    "                   'gbclf_19feats_stacking_proba_mean_train.csv',\n",
    "                   'xgbclf_19feats_stacking_proba_mean_train.csv',\n",
    "                   'rf_30feats_stacking_proba_mean_train.csv']\n",
    "X_train = pd.DataFrame()\n",
    "for file in train_files_list:\n",
    "    cur = pd.read_csv(file, header=-1, delimiter=' ')\n",
    "    X_train = pd.concat([X_train, cur], axis=1)\n",
    "\n",
    "test_files_list = ['rf_13_subset_stacking_proba_mean_test.csv',\n",
    "                  'rf_21_subset_stacking_proba_mean_test.csv',\n",
    "                  'rf_19allfeats_stacking_proba_mean_test.csv',\n",
    "                  'rf_float_stacking_proba_mean_test.csv',\n",
    "                  'gbclf_30feats_stacking_proba_mean_test.csv',\n",
    "                  'xgbclf_30feats_stacking_proba_mean_test.csv',\n",
    "                  'gbclf_19feats_stacking_proba_mean_test.csv',\n",
    "                  'xgbclf_19feats_stacking_proba_mean_test.csv',\n",
    "                  'rf_30feats_stacking_proba_mean_test.csv'\n",
    "                  ]\n",
    "X_test = pd.DataFrame()\n",
    "for file in test_files_list:\n",
    "    cur = pd.read_csv(file, header=-1, delimiter=' ')\n",
    "    X_test = pd.concat([X_test, cur], axis=1)\n",
    "\n",
    "y_train = pd.read_csv('y_train.csv', sep=';', names = ['class'])\n",
    "y_train = y_train.squeeze()"
   ]
  },
  {
   "cell_type": "code",
   "execution_count": 108,
   "metadata": {
    "collapsed": true
   },
   "outputs": [],
   "source": [
    "#skf_cv = StratifiedKFold(n_splits=5)"
   ]
  },
  {
   "cell_type": "code",
   "execution_count": 109,
   "metadata": {},
   "outputs": [
    {
     "data": {
      "text/plain": [
       "0.644894873816801"
      ]
     },
     "execution_count": 109,
     "metadata": {},
     "output_type": "execute_result"
    }
   ],
   "source": [
    "log_reg = LogisticRegression()\n",
    "cross_val_score(log_reg, X_train, y_train, scoring='accuracy', cv = skf_cv).mean()"
   ]
  },
  {
   "cell_type": "code",
   "execution_count": 110,
   "metadata": {
    "collapsed": true
   },
   "outputs": [],
   "source": [
    "log_reg.fit(X_train, y_train)\n",
    "ans6 = log_reg.predict(X_test)\n",
    "np.savetxt('voting_proba_ans_all_log_reg.csv', ans6, fmt='%i', delimiter='\\n')"
   ]
  },
  {
   "cell_type": "code",
   "execution_count": 103,
   "metadata": {},
   "outputs": [],
   "source": [
    "#### \n",
    "train_files_list = ['rf_21_subset_stacking_proba_mean_train.csv',\n",
    "                   'rf_19allfeats_stacking_proba_mean_train.csv',\n",
    "                   'rf_13_subset_stacking_proba_mean_train.csv',\n",
    "                   'gbclf_19feats_stacking_proba_mean_train.csv',\n",
    "                   'xgbclf_19feats_stacking_proba_mean_train.csv',\n",
    "                   'gbclf_30feats_stacking_proba_mean_train.csv',\n",
    "                   'xgbclf_30feats_stacking_proba_mean_train.csv',\n",
    "                   'rf_float_stacking_proba_mean_train.csv']\n",
    "X_train = pd.read_csv('rf_30feats_stacking_proba_mean_train.csv', header=-1, delimiter=' ')\n",
    "for file in train_files_list:\n",
    "    cur = pd.read_csv(file, header=-1, delimiter=' ')\n",
    "    X_train = X_train.add(cur, fill_value=0)\n",
    "\n",
    "test_files_list = ['rf_21_subset_stacking_proba_mean_test.csv',\n",
    "                  'rf_19allfeats_stacking_proba_mean_test.csv',\n",
    "                  'rf_13_subset_stacking_proba_mean_test.csv',\n",
    "                  'gbclf_19feats_stacking_proba_mean_test.csv',\n",
    "                  'xgbclf_19feats_stacking_proba_mean_test.csv',\n",
    "                  'gbclf_30feats_stacking_proba_mean_test.csv',\n",
    "                  'xgbclf_30feats_stacking_proba_mean_test.csv',\n",
    "                  'rf_float_stacking_proba_mean_test.csv'\n",
    "                  ]\n",
    "X_test = pd.read_csv('rf_30feats_stacking_proba_mean_test.csv', header=-1, delimiter=' ')\n",
    "for file in test_files_list:\n",
    "    cur = pd.read_csv(file, header=-1, delimiter=' ')\n",
    "    X_test = X_test.add(cur, fill_value=0)\n",
    "\n",
    "y_train = pd.read_csv('y_train.csv', sep=';', names = ['class'])\n",
    "y_train = y_train.squeeze()"
   ]
  },
  {
   "cell_type": "code",
   "execution_count": 104,
   "metadata": {
    "collapsed": true
   },
   "outputs": [],
   "source": [
    "ans5 = X_test.values.argmax(axis=1)\n",
    "ans_train = X_train.values.argmax(axis=1)"
   ]
  },
  {
   "cell_type": "code",
   "execution_count": 105,
   "metadata": {
    "collapsed": true
   },
   "outputs": [],
   "source": [
    "np.savetxt('voting_proba_ans_all_2.csv', ans5, fmt='%i', delimiter='\\n')"
   ]
  },
  {
   "cell_type": "code",
   "execution_count": 106,
   "metadata": {},
   "outputs": [
    {
     "data": {
      "text/plain": [
       "0.64029807967899111"
      ]
     },
     "execution_count": 106,
     "metadata": {},
     "output_type": "execute_result"
    }
   ],
   "source": [
    "from sklearn.metrics import accuracy_score\n",
    "accuracy_score(ans_train, y_train.as_matrix())"
   ]
  },
  {
   "cell_type": "code",
   "execution_count": 111,
   "metadata": {},
   "outputs": [
    {
     "data": {
      "text/plain": [
       "0.92307692307692313"
      ]
     },
     "execution_count": 111,
     "metadata": {},
     "output_type": "execute_result"
    }
   ],
   "source": [
    "\n",
    "accuracy_score(ans5, ans6)"
   ]
  },
  {
   "cell_type": "code",
   "execution_count": null,
   "metadata": {
    "collapsed": true
   },
   "outputs": [],
   "source": []
  }
 ],
 "metadata": {
  "anaconda-cloud": {},
  "kernelspec": {
   "display_name": "Python [Root]",
   "language": "python",
   "name": "Python [Root]"
  },
  "language_info": {
   "codemirror_mode": {
    "name": "ipython",
    "version": 3
   },
   "file_extension": ".py",
   "mimetype": "text/x-python",
   "name": "python",
   "nbconvert_exporter": "python",
   "pygments_lexer": "ipython3",
   "version": "3.5.2"
  }
 },
 "nbformat": 4,
 "nbformat_minor": 2
}
